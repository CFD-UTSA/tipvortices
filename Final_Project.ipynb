{
 "cells": [
  {
   "cell_type": "markdown",
   "id": "8c1eb336",
   "metadata": {},
   "source": [
    "# Daniel Brun - Final Project"
   ]
  },
  {
   "cell_type": "markdown",
   "id": "21cfd60e",
   "metadata": {},
   "source": [
    "## <font color='red'>NOTE - PLEASE READ CAREFULLY BEFORE RUNNING THIS PROJECT</font>"
   ]
  },
  {
   "cell_type": "markdown",
   "id": "8cc0c9ca",
   "metadata": {},
   "source": [
    "## You might need to have <font color ='lightgreen'>NVIDIA GPU's with CUDA cores</font> integrated to use Numba"
   ]
  },
  {
   "cell_type": "markdown",
   "id": "25357a08",
   "metadata": {},
   "source": [
    "### This project uses NVIDIA GPU cores as well as multiple matrices. It is needed to have enough ram (recommended 16GB) to run the whole project. Some packages might not work if you do not have compatible GPU or enough power processing."
   ]
  },
  {
   "cell_type": "markdown",
   "id": "9f59cffd",
   "metadata": {},
   "source": [
    "## If you downloaded the files type <font color = 'purple'>user = 1</font> in the next cell. Make sure you place the code in the main folder along the folders that are named <font color = 'blue'>\"Experiment 09_10....\"</font> and similar"
   ]
  },
  {
   "cell_type": "code",
   "execution_count": 1,
   "id": "1d705ec7",
   "metadata": {},
   "outputs": [],
   "source": [
    "# Type 1 if you downloaded the files. Zero only works for code creator\n",
    "\n",
    "user = 0                                        # 0 only for developer\n",
    "numba_or_imagej_image = 1                       # Numba 1, ImageJ 0\n",
    "CPU_or_GPU = 'GPU'                              # Using NVIDIA GPU? Answer with 'CPU' if you don't or 'GPU'\n",
    "clean_ram_when_done = 0                         # Erase RAW images imported when done processing images? 0 no, 1 yes"
   ]
  },
  {
   "cell_type": "code",
   "execution_count": 2,
   "id": "b4a2c793",
   "metadata": {},
   "outputs": [],
   "source": [
    "# Import Packages\n",
    "import numpy as np\n",
    "import matplotlib.pyplot as plt\n",
    "import imagej\n",
    "import numba as nb\n",
    "from numba import cuda, jit, njit, float32, vectorize, uint32, f8, uint8, float64\n",
    "import glob\n",
    "import os\n",
    "import time\n",
    "from timeit import default_timer as timer\n",
    "from PIL import Image\n",
    "import sys\n",
    "import time\n",
    "import timeit\n",
    "defTime = lambda: timeit.default_timer()\n",
    "import cv2\n",
    "import math\n",
    "import gc"
   ]
  },
  {
   "cell_type": "code",
   "execution_count": 3,
   "id": "73e0607d",
   "metadata": {},
   "outputs": [],
   "source": [
    "# Ignore warnings\n",
    "import warnings\n",
    "warnings.filterwarnings('ignore')"
   ]
  },
  {
   "cell_type": "code",
   "execution_count": 4,
   "id": "6dc71fae",
   "metadata": {},
   "outputs": [
    {
     "name": "stdout",
     "output_type": "stream",
     "text": [
      "Found 1 CUDA devices\n",
      "id 0     b'GeForce RTX 3070'                              [SUPPORTED]\n",
      "                      compute capability: 8.6\n",
      "                           pci device id: 0\n",
      "                              pci bus id: 1\n",
      "Summary:\n",
      "\t1/1 devices are supported\n"
     ]
    }
   ],
   "source": [
    "# Check if you have NVDIA GPU's with CUDA cores available\n",
    "cuda.detect()\n",
    "\n",
    "# Initialize imagej\n",
    "\n",
    "if numba_or_imagej_image == 0:\n",
    "    ij = imagej.init()\n",
    "    print('ImageJ Initialized')"
   ]
  },
  {
   "cell_type": "code",
   "execution_count": 5,
   "id": "f62337c2",
   "metadata": {},
   "outputs": [],
   "source": [
    "# Define file location and list images\n",
    "\n",
    "if user == 0:\n",
    "    download_data_place = r'F:\\Research Files\\NASA Drone Rover\\Schlieren Data'\n",
    "elif user == 1:\n",
    "    dowload_data_place = os.getcwd()\n",
    "    \n",
    "main_folders = sorted(glob.glob(download_data_place+'\\*'))\n",
    "background_folders = [[[]] * 3]\n",
    "\n",
    "i = 0\n",
    "for x in main_folders:\n",
    "    loc_main = sorted(glob.glob(main_folders[i]+'\\*'))\n",
    "    j = 0\n",
    "    for y in loc_main:\n",
    "        if i == 0:\n",
    "            exp_list_2 = [None] * len(loc_main)\n",
    "            exp_2 = loc_main\n",
    "            exp_backg_2 = [None] * len(loc_main)\n",
    "            k = 0\n",
    "\n",
    "            for z in exp_2:\n",
    "                exp_list_2[k] = sorted(glob.glob(exp_2[k]+'\\*.tif'))\n",
    "                k += 1\n",
    "\n",
    "        elif i == 1:\n",
    "            exp_list_1 = [None] * len(loc_main)\n",
    "            exp_1 = loc_main\n",
    "            k = 0\n",
    "            \n",
    "            for z in exp_1:\n",
    "                exp_list_1[k] = sorted(glob.glob(exp_1[k]+'\\*.jpg'))\n",
    "                k += 1\n",
    "\n",
    "        elif i == 2:\n",
    "            exp_list_3 = [None] * len(loc_main)\n",
    "            exp_3 = loc_main\n",
    "            exp_backg_3 = [None] * len(loc_main)\n",
    "            k = 0\n",
    "\n",
    "            for z in exp_3:\n",
    "                exp_list_3[k] = sorted(glob.glob(exp_3[k]+'\\*.tif'))\n",
    "                k += 1\n",
    "\n",
    "        elif i == 3:\n",
    "            exp_list_4 = [None] * len(loc_main)\n",
    "            exp_4 = loc_main\n",
    "            exp_backg_4 = [None] * len(loc_main)\n",
    "            k = 0\n",
    "\n",
    "            for z in exp_4:\n",
    "                exp_list_4[k] = sorted(glob.glob(exp_4[k]+'\\*.tif'))\n",
    "                k += 1\n",
    "    i += 1\n",
    "\n",
    "    \n",
    "exp1 = sorted(exp_list_1)\n",
    "\n",
    "exp2 = [exp_list_2[0],exp_list_2[2],exp_list_2[3],\n",
    "        exp_list_2[4],exp_list_2[7],exp_list_2[8],\n",
    "        exp_list_2[5],exp_list_2[9],exp_list_2[11]]\n",
    "\n",
    "exp3 = [exp_list_3[1],exp_list_3[2]]\n",
    "exp4 = [exp_list_4[1],exp_list_4[3],exp_list_4[5],exp_list_4[6],exp_list_4[8]]\n",
    "\n",
    "\n",
    "exp2_bg = [exp_list_2[1],exp_list_2[1],exp_list_2[1],\n",
    "           exp_list_2[1],exp_list_2[1],exp_list_2[1],\n",
    "           exp_list_2[6],exp_list_2[10],exp_list_2[10]]\n",
    "\n",
    "exp3_bg = [exp_list_3[0],exp_list_3[0]]\n",
    "exp4_bg = [exp_list_4[0],exp_list_4[2],exp_list_4[4],exp_list_4[7],exp_list_4[7]]\n",
    "    \n",
    "whole_list = [exp1,exp2,exp3,exp4]\n",
    "bg_list = [exp2_bg,exp3_bg,exp4_bg]\n",
    "\n",
    "x = len(whole_list)\n",
    "y = [len(exp1),len(exp2),len(exp3),len(exp4)]\n",
    "\n",
    "conv_files_pil = [[[]]for i in range(x)]\n",
    "conv_files = [[[]]for i in range(x)]\n",
    "conv_files_bg = [[[]]for i in range(x)]\n",
    "\n",
    "i = 0\n",
    "ii = 0\n",
    "\n",
    "for xx in range(x):\n",
    "    conv_files[ii] = [[] for i in range(y[i])]\n",
    "    i += 1\n",
    "    ii += 1\n",
    "    \n",
    "i = 0\n",
    "ii = 0\n",
    "\n",
    "for xx in range(x):\n",
    "    conv_files_pil[ii] = [[] for i in range(y[i])]\n",
    "    i += 1\n",
    "    ii += 1\n",
    "\n",
    "    \n",
    "x = len(bg_list)\n",
    "y = [len(exp2_bg),len(exp3_bg),len(exp4_bg)]\n",
    "\n",
    "i = 0\n",
    "ii = 0\n",
    "\n",
    "for xx in range(x):\n",
    "    conv_files_bg[ii] = [[]for i in range(y[i])]\n",
    "    i += 1\n",
    "    ii += 1"
   ]
  },
  {
   "cell_type": "code",
   "execution_count": 6,
   "id": "ece584e3",
   "metadata": {},
   "outputs": [],
   "source": [
    "# Import Background\n",
    "\n",
    "def import_images_numba_pil_bg(i,j,z):\n",
    "    \n",
    "    img = Image.open(z).convert('L')\n",
    "    np_img = np.array(img)\n",
    "    np_img = np.array(np_img, dtype = 'uint8')\n",
    "    conv_files_bg[i][j].append(np_img)\n",
    "\n",
    "i = 0\n",
    "\n",
    "for x in bg_list:\n",
    "    j = 0\n",
    "    for y in x:\n",
    "        k = 0\n",
    "        while k <= 4:\n",
    "            z = y[k]\n",
    "            import_images_numba_pil_bg(i,j,z)\n",
    "            k += 1\n",
    "        j += 1\n",
    "    i += 1"
   ]
  },
  {
   "cell_type": "markdown",
   "id": "85c87506",
   "metadata": {},
   "source": [
    "# Using ImageJ to Load and Process Images"
   ]
  },
  {
   "cell_type": "code",
   "execution_count": 7,
   "id": "56998d2c",
   "metadata": {},
   "outputs": [],
   "source": [
    "# Use ImageJ to process images\n",
    "def image_j_process(i,j,z):\n",
    "    image_op = ij.io().open(z)\n",
    "    conv_files[i][j].append(ij.py.from_java(image_op))\n",
    "    "
   ]
  },
  {
   "cell_type": "markdown",
   "id": "b0f0bba8",
   "metadata": {},
   "source": [
    "# Using Numba CUDA to Load and Process Images"
   ]
  },
  {
   "cell_type": "markdown",
   "id": "bba237ba",
   "metadata": {},
   "source": [
    "# Using PIL to Load Images"
   ]
  },
  {
   "cell_type": "code",
   "execution_count": 8,
   "id": "75a57c9a",
   "metadata": {},
   "outputs": [],
   "source": [
    "# Use PIL for import images\n",
    "def import_images_numba_pil(i,j,z):\n",
    "    img = Image.open(z).convert('L')\n",
    "    np_img = np.array(img)\n",
    "    np_img = np.array(np_img, dtype = 'uint8')\n",
    "    conv_files_pil[i][j].append(np_img)"
   ]
  },
  {
   "cell_type": "code",
   "execution_count": 9,
   "id": "a259f309",
   "metadata": {
    "scrolled": true
   },
   "outputs": [],
   "source": [
    "\n",
    "# Extraction process function\n",
    "def extraction_process():\n",
    "    start = timer()\n",
    "    i = 0\n",
    "    for x in whole_list:\n",
    "        j = 0\n",
    "        for y in x:\n",
    "            startTime = defTime()\n",
    "            drawTimes = []\n",
    "            totalFiles = float(len(y))\n",
    "            \n",
    "            k = 0\n",
    "            #for z in y:\n",
    "            while k <= 100:\n",
    "                drawStartTime = defTime()\n",
    "                \n",
    "                z = y[k]\n",
    "                if numba_or_imagej_image == 0:\n",
    "                    image_j_process(i,j,z)\n",
    "                    k += 1\n",
    "\n",
    "                elif numba_or_imagej_image == 1:\n",
    "                    import_images_numba_pil(i,j,z)\n",
    "                    k += 1\n",
    "                    \n",
    "                if i == 0:\n",
    "                    format_img = 'jpeg '\n",
    "                elif i > 0:\n",
    "                    format_img = 'tif '\n",
    "                    \n",
    "                drawEndTime = defTime()\n",
    "                drawTime = drawEndTime - drawStartTime\n",
    "                drawTimes.append(drawTime)\n",
    "                elapsedTime = defTime() - startTime\n",
    "                totalTime = totalFiles * np.mean(drawTimes)\n",
    "                remainingTime = totalFiles * np.mean(drawTimes) - elapsedTime\n",
    "                drawTimes.append(drawTime)\n",
    "                \n",
    "                print('Working with: Experiment %0.0f Case %0.0f | Image: %0.0f | Time per frame: %0.3fs | Remaining Time: %0.3fs | Total Time: %0.3fs                          '%(i+1, j+1, k+1, drawTime, remainingTime, totalTime), end = '\\r')\n",
    "\n",
    "            j += 1\n",
    "        i += 1\n",
    "\n",
    "    dt = timer() - start\n",
    "    \n",
    "    print('Total time of processing: %0.1f seconds                                                                                                                                '%dt)"
   ]
  },
  {
   "cell_type": "code",
   "execution_count": 10,
   "id": "892d4cc8",
   "metadata": {},
   "outputs": [],
   "source": [
    "@cuda.jit\n",
    "def multiply_stride(a, b, c): \n",
    "    s1, s2 = cuda.grid(2)\n",
    "    d1, d2 = cuda.gridsize(2)\n",
    "    for i1 in range(s1, a.shape[0], d1): \n",
    "        for i2 in range(s2, b.shape[1], d2): \n",
    "            the_sum = 0\n",
    "            for k in range(b.shape[0]): # or a.shape[1] \n",
    "                the_sum += a[i1][k]*b[k][i2]\n",
    "            c[i1, i2] = the_sum"
   ]
  },
  {
   "cell_type": "code",
   "execution_count": 11,
   "id": "06d0473f",
   "metadata": {},
   "outputs": [],
   "source": [
    "@cuda.jit\n",
    "def subtract_background(a, b, c): \n",
    "    s1, s2 = cuda.grid(2)\n",
    "    d1, d2 = cuda.gridsize(2)\n",
    "    for i1 in range(s1, a.shape[0], d1): \n",
    "        for i2 in range(s2, b.shape[0], d2): \n",
    "            the_sum = a[i1][i2] / b[i1][i2]\n",
    "            c[i1, i2] = the_sum"
   ]
  },
  {
   "cell_type": "code",
   "execution_count": 12,
   "id": "bb97ef96",
   "metadata": {},
   "outputs": [],
   "source": [
    "@cuda.jit\n",
    "def subtract_background_2(a, b, c): \n",
    "    s1, s2 = cuda.grid(2)\n",
    "    d1, d2 = cuda.gridsize(2)\n",
    "    c[:,:] = a - b"
   ]
  },
  {
   "cell_type": "code",
   "execution_count": 13,
   "id": "128ace66",
   "metadata": {},
   "outputs": [],
   "source": [
    "def use_gpu_process():\n",
    "    global mult_files\n",
    "    timetot = 0\n",
    "    whole_start = timer()\n",
    "    mult_files = []\n",
    "    data_size = conv_files_pil[1][0][0]\n",
    "    threadsperblock = (32,32)\n",
    "    blockspergrid_x = math.ceil(data_size.shape[0] / threadsperblock[0])\n",
    "    blockspergrid_y = math.ceil(data_size.shape[1] / threadsperblock[1])\n",
    "    blockspergrid = (blockspergrid_x, blockspergrid_y)\n",
    "    total_files = 0\n",
    "    \n",
    "    \n",
    "    for i in range(1,3):\n",
    "        xxx = conv_files_pil[i]\n",
    "        \n",
    "        j = 0\n",
    "        i_bg = i-1\n",
    "        for xx in xxx:\n",
    "            jj = 0\n",
    "            y = conv_files_bg[i_bg][j][0]\n",
    "            for x in xx:\n",
    "                \n",
    "                a = x\n",
    "                b = y\n",
    "                d_a = cuda.to_device(a)\n",
    "                d_b = cuda.to_device(b)\n",
    "                c = np.zeros((a.shape[0], b.shape[1]))\n",
    "                d_c = cuda.to_device(c)\n",
    "                start = timer()\n",
    "                subtract_background[blockspergrid,threadsperblock](d_a, d_b, d_c)\n",
    "                #multiply_stride[blockspergrid,threadsperblock](d_a, d_b, d_c)\n",
    "                print('Experiment %0.0f | Case %0.0f | Frame % 0.0f | Background Substraction'%(i,j,jj), end = '\\r')\n",
    "                dt = timer() - start\n",
    "                timetot = timetot + dt\n",
    "                pp_c = d_c.copy_to_host()\n",
    "                pp_c = np.array(pp_c, dtype = 'float32')\n",
    "                mult_files.append(pp_c)\n",
    "                total_files += 1\n",
    "                jj += 1\n",
    "            j +=1\n",
    "            \n",
    "    totalTime_of_process = timer() - whole_start\n",
    "    print('                                                                                                                                                            ')\n",
    "    print('Using NVIDIA RTX 3070 GPU (@1725MHz): \\n\\u2022 Images Processed %0.0f \\n\\u2022 Image Processing Time: %0.5f \\n\\u2022 Total Process Time: %0.5f seconds'%(total_files, timetot, totalTime_of_process))\n",
    "    test_1 = d_c.copy_to_host()\n",
    "    plt.imshow(test_1, cmap = 'gray')"
   ]
  },
  {
   "cell_type": "code",
   "execution_count": 14,
   "id": "de3d054e",
   "metadata": {},
   "outputs": [],
   "source": [
    "def use_cpu_process():\n",
    "    global mult_files_cpu\n",
    "    timetot = 0\n",
    "    whole_start = timer()\n",
    "    mult_files_cpu = []\n",
    "    total_files = 0\n",
    "    \n",
    "    for i in range(1,3):\n",
    "        xxx = conv_files_pil[i]\n",
    "\n",
    "        j = 0\n",
    "        i_bg = i-1\n",
    "        for xx in xxx:\n",
    "            jj = 0\n",
    "            y = conv_files_bg[i_bg][j][0]\n",
    "            for x in xx:\n",
    "                \n",
    "                b = y\n",
    "                a = x\n",
    "                c = np.zeros((a.shape[0], b.shape[1]))\n",
    "                start = timer()\n",
    "                for i1 in range(a.shape[0]): \n",
    "                    for i2 in range(a.shape[1]): \n",
    "                        the_sum = a[i1][i2] / b[i1][i2]\n",
    "                        c[i1][i2] = the_sum\n",
    "                pp_c = np.array(c, dtype = 'float32')\n",
    "                print('Experiment %0.0f | Case %0.0f | Frame % 0.0f | Background Substraction'%(i,j,jj), end = '\\r')\n",
    "                dt = timer() - start\n",
    "                timetot = timetot + dt\n",
    "                mult_files_cpu.append(pp_c)\n",
    "                total_files += 1\n",
    "                jj += 1\n",
    "                \n",
    "            j += 1\n",
    "    totalTime_of_process = timer() - whole_start\n",
    "    print('                                                                                                                                                            ')\n",
    "    print('Using i9-9900K (@5.0GHz): \\n\\u2022 Images Processed %0.0f \\n\\u2022 Image Processing Time: %0.5f \\n\\u2022 Total Process Time: %0.5f seconds'%(total_files, timetot, totalTime_of_process))\n",
    "    test_1 = c\n",
    "    plt.imshow(test_1, cmap = 'gray')"
   ]
  },
  {
   "cell_type": "code",
   "execution_count": 15,
   "id": "4b1e7b82",
   "metadata": {},
   "outputs": [
    {
     "name": "stdout",
     "output_type": "stream",
     "text": [
      "Total time of processing: 8.8 seconds                                                                                                                                \n"
     ]
    }
   ],
   "source": [
    "# Benchmark\n",
    "extraction_process()"
   ]
  },
  {
   "cell_type": "code",
   "execution_count": 16,
   "id": "00fbc39e",
   "metadata": {},
   "outputs": [
    {
     "name": "stdout",
     "output_type": "stream",
     "text": [
      "                                                                                                                                                            \n",
      "Using NVIDIA RTX 3070 GPU (@1725MHz): \n",
      "• Images Processed 1111 \n",
      "• Image Processing Time: 0.38759 \n",
      "• Total Process Time: 8.74459 seconds\n"
     ]
    },
    {
     "data": {
      "image/png": "[encoded data removed]",
      "text/plain": [
       "<Figure size 432x288 with 1 Axes>"
      ]
     },
     "metadata": {
      "needs_background": "light"
     },
     "output_type": "display_data"
    }
   ],
   "source": [
    "if CPU_or_GPU == 'GPU':\n",
    "    use_gpu_process()"
   ]
  },
  {
   "cell_type": "code",
   "execution_count": 17,
   "id": "54de9916",
   "metadata": {},
   "outputs": [],
   "source": [
    "if CPU_or_GPU == 'CPU':\n",
    "    use_cpu_process()"
   ]
  },
  {
   "cell_type": "code",
   "execution_count": 18,
   "id": "e3c9e609",
   "metadata": {},
   "outputs": [],
   "source": [
    "def use_cpu_process_complete_division():\n",
    "    global mult_files_cpu\n",
    "    timetot = 0\n",
    "    whole_start = timer()\n",
    "    mult_files_cpu = []\n",
    "    total_files = 0\n",
    "    \n",
    "    for i in range(1,3):\n",
    "        xxx = conv_files_pil[i]\n",
    "\n",
    "        j = 0\n",
    "        i_bg = i-1\n",
    "        for xx in xxx:\n",
    "            jj = 0\n",
    "            y = conv_files_bg[i_bg][j][0]\n",
    "            for x in xx:\n",
    "                \n",
    "                b = y\n",
    "                a = x\n",
    "                c = np.zeros((a.shape[0], b.shape[1]))\n",
    "                start = timer()\n",
    "                the_sum = a / b\n",
    "                c = the_sum\n",
    "                pp_c = np.array(c, dtype = 'float32')\n",
    "                print('Experiment %0.0f | Case %0.0f | Frame % 0.0f | Background Substraction'%(i,j,jj), end = '\\r')\n",
    "                dt = timer() - start\n",
    "                timetot = timetot + dt\n",
    "                mult_files_cpu.append(pp_c)\n",
    "                total_files += 1\n",
    "                jj += 1\n",
    "                \n",
    "            j += 1\n",
    "    totalTime_of_process = timer() - whole_start\n",
    "    print('                                                                                                                                                            ')\n",
    "    print('Using i9-9900K (@5.0GHz): \\n\\u2022 Images Processed %0.0f \\n\\u2022 Image Processing Time: %0.5f \\n\\u2022 Total Process Time: %0.5f seconds'%(total_files, timetot, totalTime_of_process))\n",
    "    test_1 = c\n",
    "    plt.imshow(test_1, cmap = 'gray')"
   ]
  },
  {
   "cell_type": "code",
   "execution_count": 19,
   "id": "2324f657",
   "metadata": {},
   "outputs": [
    {
     "name": "stdout",
     "output_type": "stream",
     "text": [
      "                                                                                                                                                            \n",
      "Using i9-9900K (@5.0GHz): \n",
      "• Images Processed 1111 \n",
      "• Image Processing Time: 3.99369 \n",
      "• Total Process Time: 4.03304 seconds\n"
     ]
    },
    {
     "data": {
      "image/png": "[encoded data removed]",
      "text/plain": [
       "<Figure size 432x288 with 1 Axes>"
      ]
     },
     "metadata": {
      "needs_background": "light"
     },
     "output_type": "display_data"
    }
   ],
   "source": [
    "use_cpu_process_complete_division()"
   ]
  },
  {
   "cell_type": "code",
   "execution_count": 20,
   "id": "04500daa",
   "metadata": {},
   "outputs": [],
   "source": [
    "# Clean Cache from imported files for RAM\n",
    "if clean_ram_when_done == 1:\n",
    "    del conv_files_bg\n",
    "    del conv_files_pil\n",
    "    gc.collect()"
   ]
  },
  {
   "cell_type": "code",
   "execution_count": 21,
   "id": "5b563eba",
   "metadata": {},
   "outputs": [
    {
     "data": {
      "image/png": "[encoded data removed]",
      "text/plain": [
       "<Figure size 432x288 with 1 Axes>"
      ]
     },
     "metadata": {
      "needs_background": "light"
     },
     "output_type": "display_data"
    }
   ],
   "source": [
    "%matplotlib inline\n",
    "\n",
    "from IPython.display import clear_output\n",
    "from time import sleep\n",
    "\n",
    "for a in mult_files:\n",
    "    plt.imshow(a, cmap = 'gray', vmin = 0.8, vmax = 1)\n",
    "    plt.show()\n",
    "    #sleep(1/100)\n",
    "    clear_output(wait=True)"
   ]
  },
  {
   "cell_type": "code",
   "execution_count": 22,
   "id": "d21b4dd7",
   "metadata": {},
   "outputs": [
    {
     "data": {
      "image/png": "[encoded data removed]",
      "text/plain": [
       "<Figure size 432x288 with 1 Axes>"
      ]
     },
     "metadata": {
      "needs_background": "light"
     },
     "output_type": "display_data"
    }
   ],
   "source": [
    "%matplotlib inline\n",
    "\n",
    "from IPython.display import clear_output\n",
    "from time import sleep\n",
    "\n",
    "for a in mult_files_cpu:\n",
    "    plt.imshow(a, cmap = 'gray', vmin = 0.8, vmax = 1)\n",
    "    plt.show()\n",
    "    #sleep(1/100)\n",
    "    clear_output(wait=True)"
   ]
  },
  {
   "cell_type": "code",
   "execution_count": null,
   "id": "4622ff14",
   "metadata": {},
   "outputs": [],
   "source": []
  }
 ],
 "metadata": {
  "kernelspec": {
   "display_name": "Python 3",
   "language": "python",
   "name": "python3"
  },
  "language_info": {
   "codemirror_mode": {
    "name": "ipython",
    "version": 3
   },
   "file_extension": ".py",
   "mimetype": "text/x-python",
   "name": "python",
   "nbconvert_exporter": "python",
   "pygments_lexer": "ipython3",
   "version": "3.7.10"
  }
 },
 "nbformat": 4,
 "nbformat_minor": 5
}
